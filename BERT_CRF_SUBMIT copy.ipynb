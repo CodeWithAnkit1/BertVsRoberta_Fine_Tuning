{
 "cells": [
  {
   "cell_type": "code",
   "execution_count": 1,
   "metadata": {},
   "outputs": [],
   "source": [
    "import pandas as pd\n",
    "import numpy as np\n",
    "from transformers import BertTokenizer, BertTokenizerFast, BertForTokenClassification, Trainer, TrainingArguments, EvalPrediction\n",
    "from sklearn.model_selection import train_test_split\n",
    "from torch.utils.data import DataLoader, Dataset\n",
    "from sklearn.metrics import precision_recall_fscore_support, accuracy_score, classification_report\n",
    "import torch\n",
    "from collections import Counter\n",
    "import matplotlib.pyplot as plt\n",
    "from seqeval.metrics import classification_report\n"
   ]
  },
  {
   "cell_type": "code",
   "execution_count": 2,
   "metadata": {},
   "outputs": [],
   "source": [
    "# Load the dataset\n",
    "file_path = r\"ner dataset\\data\\ner_dataset.csv\"  # Replace \n",
    "data = pd.read_csv(file_path, encoding='latin1',low_memory=True)\n",
    "# data"
   ]
  },
  {
   "cell_type": "code",
   "execution_count": 3,
   "metadata": {},
   "outputs": [],
   "source": [
    "\n",
    "# Drop the POS column\n",
    "data = data.drop(columns=[\"POS\"])\n",
    "data.to_csv(\"ner_dataset_without_POS.csv\", index=False)\n"
   ]
  },
  {
   "cell_type": "code",
   "execution_count": 4,
   "metadata": {},
   "outputs": [
    {
     "name": "stdout",
     "output_type": "stream",
     "text": [
      "dataFramne aftre dropping NA values 1048565\n"
     ]
    },
    {
     "name": "stderr",
     "output_type": "stream",
     "text": [
      "C:\\Users\\Manika Sinha\\AppData\\Local\\Temp\\ipykernel_28700\\523715560.py:9: FutureWarning: Series.fillna with 'method' is deprecated and will raise in a future version. Use obj.ffill() or obj.bfill() instead.\n",
      "  df[\"Sentence #\"] = df[\"Sentence #\"].fillna(method=\"ffill\")\n",
      "C:\\Users\\Manika Sinha\\AppData\\Local\\Temp\\ipykernel_28700\\523715560.py:9: SettingWithCopyWarning: \n",
      "A value is trying to be set on a copy of a slice from a DataFrame.\n",
      "Try using .loc[row_indexer,col_indexer] = value instead\n",
      "\n",
      "See the caveats in the documentation: https://pandas.pydata.org/pandas-docs/stable/user_guide/indexing.html#returning-a-view-versus-a-copy\n",
      "  df[\"Sentence #\"] = df[\"Sentence #\"].fillna(method=\"ffill\")\n",
      "C:\\Users\\Manika Sinha\\AppData\\Local\\Temp\\ipykernel_28700\\523715560.py:12: FutureWarning: DataFrame.applymap has been deprecated. Use DataFrame.map instead.\n",
      "  df = df[~df.applymap(lambda x: '�' in str(x)).any(axis=1)]\n"
     ]
    },
    {
     "name": "stdout",
     "output_type": "stream",
     "text": [
      "dataFramne aftre removing special char 1048565\n"
     ]
    }
   ],
   "source": [
    "df=data\n",
    "# Remove rows with missing values in the 'Word' column\n",
    "df = df.dropna(subset=['Word'])\n",
    "\n",
    "print(\"dataFramne aftre dropping NA values\",len(df))\n",
    "\n",
    "\n",
    "# Fill Sentence # values downward\n",
    "df[\"Sentence #\"] = df[\"Sentence #\"].fillna(method=\"ffill\")\n",
    "\n",
    "# Drop all rows containing the special character \"�\"\n",
    "df = df[~df.applymap(lambda x: '�' in str(x)).any(axis=1)]\n",
    "\n",
    "\n",
    "print(\"dataFramne aftre removing special char\",len(df))\n",
    "\n",
    "# print(df)"
   ]
  },
  {
   "cell_type": "code",
   "execution_count": 5,
   "metadata": {},
   "outputs": [
    {
     "data": {
      "text/html": [
       "<div>\n",
       "<style scoped>\n",
       "    .dataframe tbody tr th:only-of-type {\n",
       "        vertical-align: middle;\n",
       "    }\n",
       "\n",
       "    .dataframe tbody tr th {\n",
       "        vertical-align: top;\n",
       "    }\n",
       "\n",
       "    .dataframe thead th {\n",
       "        text-align: right;\n",
       "    }\n",
       "</style>\n",
       "<table border=\"1\" class=\"dataframe\">\n",
       "  <thead>\n",
       "    <tr style=\"text-align: right;\">\n",
       "      <th></th>\n",
       "      <th>Sentence #</th>\n",
       "      <th>Word</th>\n",
       "      <th>Tag</th>\n",
       "    </tr>\n",
       "  </thead>\n",
       "  <tbody>\n",
       "    <tr>\n",
       "      <th>0</th>\n",
       "      <td>Sentence: 1</td>\n",
       "      <td>Thousands</td>\n",
       "      <td>O</td>\n",
       "    </tr>\n",
       "    <tr>\n",
       "      <th>1</th>\n",
       "      <td>Sentence: 1</td>\n",
       "      <td>of</td>\n",
       "      <td>O</td>\n",
       "    </tr>\n",
       "    <tr>\n",
       "      <th>2</th>\n",
       "      <td>Sentence: 1</td>\n",
       "      <td>demonstrators</td>\n",
       "      <td>O</td>\n",
       "    </tr>\n",
       "    <tr>\n",
       "      <th>3</th>\n",
       "      <td>Sentence: 1</td>\n",
       "      <td>have</td>\n",
       "      <td>O</td>\n",
       "    </tr>\n",
       "    <tr>\n",
       "      <th>4</th>\n",
       "      <td>Sentence: 1</td>\n",
       "      <td>marched</td>\n",
       "      <td>O</td>\n",
       "    </tr>\n",
       "    <tr>\n",
       "      <th>5</th>\n",
       "      <td>Sentence: 1</td>\n",
       "      <td>through</td>\n",
       "      <td>O</td>\n",
       "    </tr>\n",
       "    <tr>\n",
       "      <th>6</th>\n",
       "      <td>Sentence: 1</td>\n",
       "      <td>London</td>\n",
       "      <td>B-geo</td>\n",
       "    </tr>\n",
       "    <tr>\n",
       "      <th>7</th>\n",
       "      <td>Sentence: 1</td>\n",
       "      <td>to</td>\n",
       "      <td>O</td>\n",
       "    </tr>\n",
       "    <tr>\n",
       "      <th>8</th>\n",
       "      <td>Sentence: 1</td>\n",
       "      <td>protest</td>\n",
       "      <td>O</td>\n",
       "    </tr>\n",
       "    <tr>\n",
       "      <th>9</th>\n",
       "      <td>Sentence: 1</td>\n",
       "      <td>the</td>\n",
       "      <td>O</td>\n",
       "    </tr>\n",
       "    <tr>\n",
       "      <th>10</th>\n",
       "      <td>Sentence: 1</td>\n",
       "      <td>war</td>\n",
       "      <td>O</td>\n",
       "    </tr>\n",
       "    <tr>\n",
       "      <th>11</th>\n",
       "      <td>Sentence: 1</td>\n",
       "      <td>in</td>\n",
       "      <td>O</td>\n",
       "    </tr>\n",
       "    <tr>\n",
       "      <th>12</th>\n",
       "      <td>Sentence: 1</td>\n",
       "      <td>Iraq</td>\n",
       "      <td>B-geo</td>\n",
       "    </tr>\n",
       "    <tr>\n",
       "      <th>13</th>\n",
       "      <td>Sentence: 1</td>\n",
       "      <td>and</td>\n",
       "      <td>O</td>\n",
       "    </tr>\n",
       "    <tr>\n",
       "      <th>14</th>\n",
       "      <td>Sentence: 1</td>\n",
       "      <td>demand</td>\n",
       "      <td>O</td>\n",
       "    </tr>\n",
       "    <tr>\n",
       "      <th>15</th>\n",
       "      <td>Sentence: 1</td>\n",
       "      <td>the</td>\n",
       "      <td>O</td>\n",
       "    </tr>\n",
       "    <tr>\n",
       "      <th>16</th>\n",
       "      <td>Sentence: 1</td>\n",
       "      <td>withdrawal</td>\n",
       "      <td>O</td>\n",
       "    </tr>\n",
       "    <tr>\n",
       "      <th>17</th>\n",
       "      <td>Sentence: 1</td>\n",
       "      <td>of</td>\n",
       "      <td>O</td>\n",
       "    </tr>\n",
       "    <tr>\n",
       "      <th>18</th>\n",
       "      <td>Sentence: 1</td>\n",
       "      <td>British</td>\n",
       "      <td>B-gpe</td>\n",
       "    </tr>\n",
       "    <tr>\n",
       "      <th>19</th>\n",
       "      <td>Sentence: 1</td>\n",
       "      <td>troops</td>\n",
       "      <td>O</td>\n",
       "    </tr>\n",
       "  </tbody>\n",
       "</table>\n",
       "</div>"
      ],
      "text/plain": [
       "     Sentence #           Word    Tag\n",
       "0   Sentence: 1      Thousands      O\n",
       "1   Sentence: 1             of      O\n",
       "2   Sentence: 1  demonstrators      O\n",
       "3   Sentence: 1           have      O\n",
       "4   Sentence: 1        marched      O\n",
       "5   Sentence: 1        through      O\n",
       "6   Sentence: 1         London  B-geo\n",
       "7   Sentence: 1             to      O\n",
       "8   Sentence: 1        protest      O\n",
       "9   Sentence: 1            the      O\n",
       "10  Sentence: 1            war      O\n",
       "11  Sentence: 1             in      O\n",
       "12  Sentence: 1           Iraq  B-geo\n",
       "13  Sentence: 1            and      O\n",
       "14  Sentence: 1         demand      O\n",
       "15  Sentence: 1            the      O\n",
       "16  Sentence: 1     withdrawal      O\n",
       "17  Sentence: 1             of      O\n",
       "18  Sentence: 1        British  B-gpe\n",
       "19  Sentence: 1         troops      O"
      ]
     },
     "execution_count": 5,
     "metadata": {},
     "output_type": "execute_result"
    }
   ],
   "source": [
    "#Check the Sentenbces structure\n",
    "df.head(20)"
   ]
  },
  {
   "cell_type": "code",
   "execution_count": 6,
   "metadata": {},
   "outputs": [
    {
     "name": "stdout",
     "output_type": "stream",
     "text": [
      "['O', 'I-tim', 'I-per', 'I-org', 'I-nat', 'I-gpe', 'I-geo', 'I-eve', 'I-art', 'B-tim', 'B-per', 'B-org', 'B-nat', 'B-gpe', 'B-geo', 'B-eve', 'B-art']\n"
     ]
    }
   ],
   "source": [
    "unique_tags = df.Tag.unique()\n",
    "sorted_unique_tags = sorted(unique_tags, reverse=True)\n",
    "print(sorted_unique_tags)"
   ]
  },
  {
   "cell_type": "code",
   "execution_count": 7,
   "metadata": {},
   "outputs": [],
   "source": [
    "tag2id = {tag: idx for idx, tag in enumerate(sorted_unique_tags)}\n",
    "id2tag = {idx: tag for tag, idx in tag2id.items()}"
   ]
  },
  {
   "cell_type": "code",
   "execution_count": 8,
   "metadata": {},
   "outputs": [
    {
     "name": "stdout",
     "output_type": "stream",
     "text": [
      "tag2id {'O': 0, 'I-tim': 1, 'I-per': 2, 'I-org': 3, 'I-nat': 4, 'I-gpe': 5, 'I-geo': 6, 'I-eve': 7, 'I-art': 8, 'B-tim': 9, 'B-per': 10, 'B-org': 11, 'B-nat': 12, 'B-gpe': 13, 'B-geo': 14, 'B-eve': 15, 'B-art': 16}\n",
      "id2tag {0: 'O', 1: 'I-tim', 2: 'I-per', 3: 'I-org', 4: 'I-nat', 5: 'I-gpe', 6: 'I-geo', 7: 'I-eve', 8: 'I-art', 9: 'B-tim', 10: 'B-per', 11: 'B-org', 12: 'B-nat', 13: 'B-gpe', 14: 'B-geo', 15: 'B-eve', 16: 'B-art'}\n"
     ]
    }
   ],
   "source": [
    "print(\"tag2id\", tag2id) \n",
    "\n",
    "print(\"id2tag\", id2tag)"
   ]
  },
  {
   "cell_type": "code",
   "execution_count": 9,
   "metadata": {},
   "outputs": [
    {
     "name": "stdout",
     "output_type": "stream",
     "text": [
      "            Sentence #                                           Sentence  \\\n",
      "0          Sentence: 1  Thousands of demonstrators have marched throug...   \n",
      "1         Sentence: 10  Iranian officials say they expect to get acces...   \n",
      "2        Sentence: 100  Helicopter gunships Saturday pounded militant ...   \n",
      "3       Sentence: 1000  They left after a tense hour-long standoff wit...   \n",
      "4      Sentence: 10000  U.N. relief coordinator Jan Egeland said Sunda...   \n",
      "...                ...                                                ...   \n",
      "47944   Sentence: 9995  Opposition leader Mir Hossein Mousavi has said...   \n",
      "47945   Sentence: 9996  On Thursday , Iranian state media published a ...   \n",
      "47946   Sentence: 9997  Following Iran 's disputed June 12 elections ,...   \n",
      "47947   Sentence: 9998  Since then , authorities have held public tria...   \n",
      "47948   Sentence: 9999  The United Nations is praising the use of mili...   \n",
      "\n",
      "                                                    Tags  \n",
      "0      O O O O O O B-geo O O O O O B-geo O O O O O B-...  \n",
      "1      B-gpe O O O O O O O O O O O O O O B-tim O O O ...  \n",
      "2      O O B-tim O O O O O B-geo O O O O O B-org O O ...  \n",
      "3                                  O O O O O O O O O O O  \n",
      "4      B-geo O O B-per I-per O B-tim O B-geo O B-gpe ...  \n",
      "...                                                  ...  \n",
      "47944  O O O B-per I-per O O O O O O O O O O O O O O ...  \n",
      "47945  O B-tim O B-gpe O O O O O O O O B-org I-org O ...  \n",
      "47946  O B-geo O O B-tim I-tim O O O O O O O O O O O ...  \n",
      "47947          O O O O O O O O O O O O O O O O O O O O O  \n",
      "47948  O B-org I-org O O O O O O O O O O O O O O B-ti...  \n",
      "\n",
      "[47949 rows x 3 columns]\n"
     ]
    }
   ],
   "source": [
    "# Group by sentence and aggregate words and tags into lists\n",
    "# Group by sentence and aggregate\n",
    "result = df.groupby(\"Sentence #\").agg(\n",
    "    Sentence=('Word', ' '.join),  # Combine words into a sentence\n",
    "    Tags=('Tag', ' '.join)       # Combine tags into a single string\n",
    ").reset_index()\n",
    "\n",
    "# Display the resulting DataFrame\n",
    "print(result)"
   ]
  },
  {
   "cell_type": "code",
   "execution_count": 10,
   "metadata": {},
   "outputs": [
    {
     "name": "stdout",
     "output_type": "stream",
     "text": [
      "           Sentence #                                           Sentence  \\\n",
      "47948  Sentence: 9999  The United Nations is praising the use of mili...   \n",
      "\n",
      "                                                    Tags  \n",
      "47948  O B-org I-org O O O O O O O O O O O O O O B-ti...  \n"
     ]
    }
   ],
   "source": [
    "# Alternatively, using tail()\n",
    "print(result.tail(1))"
   ]
  },
  {
   "cell_type": "code",
   "execution_count": 11,
   "metadata": {},
   "outputs": [
    {
     "name": "stdout",
     "output_type": "stream",
     "text": [
      "    Sentence #                                           Sentence  \\\n",
      "0  Sentence: 1  Thousands of demonstrators have marched throug...   \n",
      "1  Sentence: 2  Families of soldiers killed in the conflict jo...   \n",
      "2  Sentence: 3  They marched from the Houses of Parliament to ...   \n",
      "3  Sentence: 4  Police put the number of marchers at 10,000 wh...   \n",
      "4  Sentence: 5  The protest comes on the eve of the annual con...   \n",
      "\n",
      "                                                Tags  \n",
      "0  O O O O O O B-geo O O O O O B-geo O O O O O B-...  \n",
      "1  O O O O O O O O O O O O O O O O O O B-per O O ...  \n",
      "2                O O O O O O O O O O O B-geo I-geo O  \n",
      "3                      O O O O O O O O O O O O O O O  \n",
      "4  O O O O O O O O O O O B-geo O O B-org I-org O ...  \n"
     ]
    }
   ],
   "source": [
    "# Extract the numeric part of the 'Sentence #' column for sorting\n",
    "result['Sentence_Num'] = result['Sentence #'].str.extract(r'(\\d+)').astype(int)\n",
    "\n",
    "# Sort the DataFrame by the extracted numeric column\n",
    "sorted_grouped = result.sort_values(by='Sentence_Num').drop(columns=['Sentence_Num'])\n",
    "\n",
    "# Reset the index after sorting\n",
    "sorted_grouped = sorted_grouped.reset_index(drop=True)\n",
    "\n",
    "# Display the first few rows to confirm sorting\n",
    "print(sorted_grouped.head())"
   ]
  },
  {
   "cell_type": "code",
   "execution_count": 12,
   "metadata": {},
   "outputs": [
    {
     "name": "stdout",
     "output_type": "stream",
     "text": [
      "            Sentence #                                         Sentence  \\\n",
      "47948  Sentence: 47959  Indian forces said they responded to the attack   \n",
      "\n",
      "                      Tags  \n",
      "47948  B-gpe O O O O O O O  \n"
     ]
    }
   ],
   "source": [
    "print(sorted_grouped.tail(1))"
   ]
  },
  {
   "cell_type": "code",
   "execution_count": 13,
   "metadata": {},
   "outputs": [
    {
     "name": "stdout",
     "output_type": "stream",
     "text": [
      "Validation failed: Some rows have mismatched words and tags.\n",
      "            Sentence #                                           Sentence  \\\n",
      "76        Sentence: 77  \" And I think they 'll want a one-stop shop in...   \n",
      "10050  Sentence: 10052  In a telephone interview to discuss the issues...   \n",
      "19814  Sentence: 19818  He says they and about 300 party supporters ar...   \n",
      "47581  Sentence: 47592  U.S. weather forecasters say Hurricane Wilma h...   \n",
      "\n",
      "                                                    Tags  \n",
      "76     O O O O O O O O O O O O O O O O O O O O O O O ...  \n",
      "10050  O O O O O O O O O O O O O B-org O B-per I-per ...  \n",
      "19814  O O O O O O O O O O O O O O O O O O O O O O O ...  \n",
      "47581  B-geo O O O O O O O O O O O O O O O O O O O O ...  \n"
     ]
    }
   ],
   "source": [
    "#Function to validate the word-tag alignment\n",
    "def validate_word_tag_alignment(df):\n",
    "    # Check alignment for each row\n",
    "    validation_results = df.apply(\n",
    "        lambda row: len(row[\"Sentence\"].split()) == len(row[\"Tags\"].split()), axis=1\n",
    "    )\n",
    "    if validation_results.all():\n",
    "        print(\"Validation successful: All sentences and tags are aligned.\")\n",
    "        return[]\n",
    "    else:\n",
    "        mismatched_rows = df[~validation_results]\n",
    "        print(\"Validation failed: Some rows have mismatched words and tags.\")\n",
    "        print(mismatched_rows)\n",
    "        return mismatched_rows.index.tolist()\n",
    "\n",
    "# Validate the DataFrame\n",
    "rowsWithSpclChar = validate_word_tag_alignment(sorted_grouped)\n"
   ]
  },
  {
   "cell_type": "code",
   "execution_count": 14,
   "metadata": {},
   "outputs": [
    {
     "name": "stdout",
     "output_type": "stream",
     "text": [
      "            Sentence #                                           Sentence  \\\n",
      "0          Sentence: 1  Thousands of demonstrators have marched throug...   \n",
      "1          Sentence: 2  Families of soldiers killed in the conflict jo...   \n",
      "2          Sentence: 3  They marched from the Houses of Parliament to ...   \n",
      "3          Sentence: 4  Police put the number of marchers at 10,000 wh...   \n",
      "4          Sentence: 5  The protest comes on the eve of the annual con...   \n",
      "...                ...                                                ...   \n",
      "47944  Sentence: 47955  Indian border security forces are accusing the...   \n",
      "47945  Sentence: 47956  Indian officials said no one was injured in Sa...   \n",
      "47946  Sentence: 47957  Two more landed in fields belonging to a nearb...   \n",
      "47947  Sentence: 47958  They say not all of the rockets exploded upon ...   \n",
      "47948  Sentence: 47959    Indian forces said they responded to the attack   \n",
      "\n",
      "                                                    Tags  \n",
      "0      O O O O O O B-geo O O O O O B-geo O O O O O B-...  \n",
      "1      O O O O O O O O O O O O O O O O O O B-per O O ...  \n",
      "2                    O O O O O O O O O O O B-geo I-geo O  \n",
      "3                          O O O O O O O O O O O O O O O  \n",
      "4      O O O O O O O O O O O B-geo O O B-org I-org O ...  \n",
      "...                                                  ...  \n",
      "47944  B-gpe O O O O O O B-gpe O O O O O O O O O B-ge...  \n",
      "47945  B-gpe O O O O O O O B-tim O O O O O O O O O O ...  \n",
      "47946                              O O O O O O O O O O O  \n",
      "47947                              O O O O O O O O O O O  \n",
      "47948                                B-gpe O O O O O O O  \n",
      "\n",
      "[47945 rows x 3 columns]\n",
      "Some rows have mismatched words and tags 47945\n"
     ]
    }
   ],
   "source": [
    "# # Drop the specified rows using their indices\n",
    "df_cleaned = sorted_grouped.drop(rowsWithSpclChar, errors='ignore')\n",
    "\n",
    "print(df_cleaned)\n",
    "\n",
    "print(\"Some rows have mismatched words and tags\",len(df_cleaned))"
   ]
  },
  {
   "cell_type": "markdown",
   "metadata": {},
   "source": [
    "Remove this line as this is just to pretrain model on very limited rows"
   ]
  },
  {
   "cell_type": "code",
   "execution_count": 15,
   "metadata": {},
   "outputs": [],
   "source": [
    "df_cleaned=sorted_grouped[:10000]\n",
    "df = df_cleaned"
   ]
  },
  {
   "cell_type": "code",
   "execution_count": 16,
   "metadata": {},
   "outputs": [],
   "source": [
    "# Extract the tags from the DataFrame\n",
    "tags = df['Tags'].apply(lambda x: x.split())\n",
    "\n",
    "# Flatten the list of tags\n",
    "all_tags = [tag for sublist in tags for tag in sublist]"
   ]
  },
  {
   "cell_type": "code",
   "execution_count": 17,
   "metadata": {},
   "outputs": [
    {
     "name": "stdout",
     "output_type": "stream",
     "text": [
      "Counter({'O': 184908, 'B-geo': 7713, 'B-tim': 4115, 'B-org': 4066, 'I-per': 3747, 'B-gpe': 3611, 'B-per': 3583, 'I-org': 3290, 'I-geo': 1576, 'I-tim': 1245, 'B-art': 112, 'B-eve': 89, 'I-eve': 71, 'I-gpe': 68, 'I-art': 65, 'B-nat': 53, 'I-nat': 22})\n"
     ]
    }
   ],
   "source": [
    "# Count the occurrences of each tag\n",
    "tag_counts = Counter(all_tags)\n",
    "\n",
    "# Print the tag counts\n",
    "print(tag_counts)"
   ]
  },
  {
   "cell_type": "code",
   "execution_count": 18,
   "metadata": {},
   "outputs": [
    {
     "data": {
      "image/png": "[encoded data removed]",
      "text/plain": [
       "<Figure size 1000x600 with 1 Axes>"
      ]
     },
     "metadata": {},
     "output_type": "display_data"
    }
   ],
   "source": [
    "# Plot the distribution of tags\n",
    "plt.figure(figsize=(10, 6))\n",
    "plt.bar(tag_counts.keys(), tag_counts.values())\n",
    "plt.xlabel('Tags')\n",
    "plt.ylabel('Count')\n",
    "plt.title('Distribution of Tags')\n",
    "plt.show()"
   ]
  },
  {
   "cell_type": "code",
   "execution_count": 19,
   "metadata": {},
   "outputs": [],
   "source": [
    "# Load the tokenizer\n",
    "tokenizer = BertTokenizerFast.from_pretrained('bert-base-cased')"
   ]
  },
  {
   "cell_type": "code",
   "execution_count": 20,
   "metadata": {},
   "outputs": [],
   "source": [
    "def tokenize_and_align_labels(sentence, labels):\n",
    "    # Tokenize the sentence\n",
    "    tokenized_inputs = tokenizer(\n",
    "        sentence.split(),  # Pre-tokenized input\n",
    "        is_split_into_words=True,\n",
    "        truncation=True,\n",
    "        padding='max_length',\n",
    "        max_length=128,\n",
    "        return_tensors=\"pt\"\n",
    "    )\n",
    "    word_ids = tokenized_inputs.word_ids()\n",
    "    aligned_labels = []\n",
    "    previous_word_idx = None\n",
    "\n",
    "    for word_idx in word_ids:\n",
    "        if word_idx is None:\n",
    "            aligned_labels.append(-100)\n",
    "        elif word_idx != previous_word_idx:\n",
    "            aligned_labels.append(tag2id[labels[word_idx]])\n",
    "        else:\n",
    "            aligned_labels.append(tag2id[labels[word_idx]] if word_idx < len(labels) else -100)\n",
    "        previous_word_idx = word_idx\n",
    "\n",
    "    tokenized_inputs[\"labels\"] = torch.tensor(aligned_labels, dtype=torch.long)\n",
    "    return tokenized_inputs"
   ]
  },
  {
   "cell_type": "code",
   "execution_count": 21,
   "metadata": {},
   "outputs": [],
   "source": [
    "# Tokenize and align labels for the dataset\n",
    "tokenized_dataset = [\n",
    "    tokenize_and_align_labels(sentence, label.split()) for sentence, label in zip(df['Sentence'], df['Tags'])\n",
    "]"
   ]
  },
  {
   "cell_type": "code",
   "execution_count": 22,
   "metadata": {},
   "outputs": [
    {
     "data": {
      "text/plain": [
       "{'input_ids': tensor([[  101,  1220,  9639,  1121,  1103, 16862,  1104,  2901,  1106,   170,\n",
       "         11158,  1107, 11878,  1670,   119,   102,     0,     0,     0,     0,\n",
       "             0,     0,     0,     0,     0,     0,     0,     0,     0,     0,\n",
       "             0,     0,     0,     0,     0,     0,     0,     0,     0,     0,\n",
       "             0,     0,     0,     0,     0,     0,     0,     0,     0,     0,\n",
       "             0,     0,     0,     0,     0,     0,     0,     0,     0,     0,\n",
       "             0,     0,     0,     0,     0,     0,     0,     0,     0,     0,\n",
       "             0,     0,     0,     0,     0,     0,     0,     0,     0,     0,\n",
       "             0,     0,     0,     0,     0,     0,     0,     0,     0,     0,\n",
       "             0,     0,     0,     0,     0,     0,     0,     0,     0,     0,\n",
       "             0,     0,     0,     0,     0,     0,     0,     0,     0,     0,\n",
       "             0,     0,     0,     0,     0,     0,     0,     0,     0,     0,\n",
       "             0,     0,     0,     0,     0,     0,     0,     0]]), 'token_type_ids': tensor([[0, 0, 0, 0, 0, 0, 0, 0, 0, 0, 0, 0, 0, 0, 0, 0, 0, 0, 0, 0, 0, 0, 0, 0,\n",
       "         0, 0, 0, 0, 0, 0, 0, 0, 0, 0, 0, 0, 0, 0, 0, 0, 0, 0, 0, 0, 0, 0, 0, 0,\n",
       "         0, 0, 0, 0, 0, 0, 0, 0, 0, 0, 0, 0, 0, 0, 0, 0, 0, 0, 0, 0, 0, 0, 0, 0,\n",
       "         0, 0, 0, 0, 0, 0, 0, 0, 0, 0, 0, 0, 0, 0, 0, 0, 0, 0, 0, 0, 0, 0, 0, 0,\n",
       "         0, 0, 0, 0, 0, 0, 0, 0, 0, 0, 0, 0, 0, 0, 0, 0, 0, 0, 0, 0, 0, 0, 0, 0,\n",
       "         0, 0, 0, 0, 0, 0, 0, 0]]), 'attention_mask': tensor([[1, 1, 1, 1, 1, 1, 1, 1, 1, 1, 1, 1, 1, 1, 1, 1, 0, 0, 0, 0, 0, 0, 0, 0,\n",
       "         0, 0, 0, 0, 0, 0, 0, 0, 0, 0, 0, 0, 0, 0, 0, 0, 0, 0, 0, 0, 0, 0, 0, 0,\n",
       "         0, 0, 0, 0, 0, 0, 0, 0, 0, 0, 0, 0, 0, 0, 0, 0, 0, 0, 0, 0, 0, 0, 0, 0,\n",
       "         0, 0, 0, 0, 0, 0, 0, 0, 0, 0, 0, 0, 0, 0, 0, 0, 0, 0, 0, 0, 0, 0, 0, 0,\n",
       "         0, 0, 0, 0, 0, 0, 0, 0, 0, 0, 0, 0, 0, 0, 0, 0, 0, 0, 0, 0, 0, 0, 0, 0,\n",
       "         0, 0, 0, 0, 0, 0, 0, 0]]), 'labels': tensor([-100,    0,    0,    0,    0,    0,    0,    0,    0,    0,    0,    0,\n",
       "          14,    6,    0, -100, -100, -100, -100, -100, -100, -100, -100, -100,\n",
       "        -100, -100, -100, -100, -100, -100, -100, -100, -100, -100, -100, -100,\n",
       "        -100, -100, -100, -100, -100, -100, -100, -100, -100, -100, -100, -100,\n",
       "        -100, -100, -100, -100, -100, -100, -100, -100, -100, -100, -100, -100,\n",
       "        -100, -100, -100, -100, -100, -100, -100, -100, -100, -100, -100, -100,\n",
       "        -100, -100, -100, -100, -100, -100, -100, -100, -100, -100, -100, -100,\n",
       "        -100, -100, -100, -100, -100, -100, -100, -100, -100, -100, -100, -100,\n",
       "        -100, -100, -100, -100, -100, -100, -100, -100, -100, -100, -100, -100,\n",
       "        -100, -100, -100, -100, -100, -100, -100, -100, -100, -100, -100, -100,\n",
       "        -100, -100, -100, -100, -100, -100, -100, -100])}"
      ]
     },
     "execution_count": 22,
     "metadata": {},
     "output_type": "execute_result"
    }
   ],
   "source": [
    "tokenized_dataset[2]"
   ]
  },
  {
   "cell_type": "code",
   "execution_count": 23,
   "metadata": {},
   "outputs": [],
   "source": [
    "class NERDataset(torch.utils.data.Dataset):\n",
    "    def __init__(self, tokenized_dataset):\n",
    "        self.tokenized_dataset = tokenized_dataset\n",
    "\n",
    "    def __len__(self):\n",
    "        return len(self.tokenized_dataset)\n",
    "\n",
    "    def __getitem__(self, idx):\n",
    "        item = self.tokenized_dataset[idx]\n",
    "        return {key: val.squeeze() for key, val in item.items()}\n",
    "\n"
   ]
  },
  {
   "cell_type": "code",
   "execution_count": 24,
   "metadata": {},
   "outputs": [],
   "source": [
    "# Create the dataset objects\n",
    "dataset = NERDataset(tokenized_dataset)"
   ]
  },
  {
   "cell_type": "code",
   "execution_count": 25,
   "metadata": {},
   "outputs": [
    {
     "data": {
      "text/plain": [
       "<__main__.NERDataset at 0x213013b5be0>"
      ]
     },
     "execution_count": 25,
     "metadata": {},
     "output_type": "execute_result"
    }
   ],
   "source": [
    "dataset"
   ]
  },
  {
   "cell_type": "code",
   "execution_count": 26,
   "metadata": {},
   "outputs": [
    {
     "name": "stdout",
     "output_type": "stream",
     "text": [
      "train Dataset size 7000\n",
      "val Dataset size 1000\n",
      "test Dataset size 2000\n"
     ]
    }
   ],
   "source": [
    "# Split the data into training, validation, and test sets\n",
    "train_size = int(0.7 * len(dataset))\n",
    "val_size = int(0.1 * len(dataset))\n",
    "test_size = int(0.2 * len(dataset))\n",
    "# test_size = len(dataset) - train_size - val_size\n",
    "train_dataset, val_dataset, test_dataset = torch.utils.data.random_split(dataset, [train_size, val_size, test_size])\n",
    "\n",
    "print(\"train Dataset size\",len(train_dataset))\n",
    "print(\"val Dataset size\",len(val_dataset))\n",
    "print(\"test Dataset size\",len(test_dataset))"
   ]
  },
  {
   "cell_type": "code",
   "execution_count": 27,
   "metadata": {},
   "outputs": [
    {
     "data": {
      "text/plain": [
       "{'input_ids': tensor([  101,  1124,  1163,  2029, 10193,  1116,  1209,  1136,  1129, 21073,\n",
       "          1181,  1120,  1155,   117,  1105,  1393,  7705,  1150,  7906,  1147,\n",
       "          1739,  1209,  1129,  6576,  1154,  1103,  1569,  7965,   119,   102,\n",
       "             0,     0,     0,     0,     0,     0,     0,     0,     0,     0,\n",
       "             0,     0,     0,     0,     0,     0,     0,     0,     0,     0,\n",
       "             0,     0,     0,     0,     0,     0,     0,     0,     0,     0,\n",
       "             0,     0,     0,     0,     0,     0,     0,     0,     0,     0,\n",
       "             0,     0,     0,     0,     0,     0,     0,     0,     0,     0,\n",
       "             0,     0,     0,     0,     0,     0,     0,     0,     0,     0,\n",
       "             0,     0,     0,     0,     0,     0,     0,     0,     0,     0,\n",
       "             0,     0,     0,     0,     0,     0,     0,     0,     0,     0,\n",
       "             0,     0,     0,     0,     0,     0,     0,     0,     0,     0,\n",
       "             0,     0,     0,     0,     0,     0,     0,     0]),\n",
       " 'token_type_ids': tensor([0, 0, 0, 0, 0, 0, 0, 0, 0, 0, 0, 0, 0, 0, 0, 0, 0, 0, 0, 0, 0, 0, 0, 0,\n",
       "         0, 0, 0, 0, 0, 0, 0, 0, 0, 0, 0, 0, 0, 0, 0, 0, 0, 0, 0, 0, 0, 0, 0, 0,\n",
       "         0, 0, 0, 0, 0, 0, 0, 0, 0, 0, 0, 0, 0, 0, 0, 0, 0, 0, 0, 0, 0, 0, 0, 0,\n",
       "         0, 0, 0, 0, 0, 0, 0, 0, 0, 0, 0, 0, 0, 0, 0, 0, 0, 0, 0, 0, 0, 0, 0, 0,\n",
       "         0, 0, 0, 0, 0, 0, 0, 0, 0, 0, 0, 0, 0, 0, 0, 0, 0, 0, 0, 0, 0, 0, 0, 0,\n",
       "         0, 0, 0, 0, 0, 0, 0, 0]),\n",
       " 'attention_mask': tensor([1, 1, 1, 1, 1, 1, 1, 1, 1, 1, 1, 1, 1, 1, 1, 1, 1, 1, 1, 1, 1, 1, 1, 1,\n",
       "         1, 1, 1, 1, 1, 1, 0, 0, 0, 0, 0, 0, 0, 0, 0, 0, 0, 0, 0, 0, 0, 0, 0, 0,\n",
       "         0, 0, 0, 0, 0, 0, 0, 0, 0, 0, 0, 0, 0, 0, 0, 0, 0, 0, 0, 0, 0, 0, 0, 0,\n",
       "         0, 0, 0, 0, 0, 0, 0, 0, 0, 0, 0, 0, 0, 0, 0, 0, 0, 0, 0, 0, 0, 0, 0, 0,\n",
       "         0, 0, 0, 0, 0, 0, 0, 0, 0, 0, 0, 0, 0, 0, 0, 0, 0, 0, 0, 0, 0, 0, 0, 0,\n",
       "         0, 0, 0, 0, 0, 0, 0, 0]),\n",
       " 'labels': tensor([-100,    0,    0,    0,    0,    0,    0,    0,    0,    0,    0,    0,\n",
       "            0,    0,    0,    0,    0,    0,    0,    0,    0,    0,    0,    0,\n",
       "            0,    0,    0,    0,    0, -100, -100, -100, -100, -100, -100, -100,\n",
       "         -100, -100, -100, -100, -100, -100, -100, -100, -100, -100, -100, -100,\n",
       "         -100, -100, -100, -100, -100, -100, -100, -100, -100, -100, -100, -100,\n",
       "         -100, -100, -100, -100, -100, -100, -100, -100, -100, -100, -100, -100,\n",
       "         -100, -100, -100, -100, -100, -100, -100, -100, -100, -100, -100, -100,\n",
       "         -100, -100, -100, -100, -100, -100, -100, -100, -100, -100, -100, -100,\n",
       "         -100, -100, -100, -100, -100, -100, -100, -100, -100, -100, -100, -100,\n",
       "         -100, -100, -100, -100, -100, -100, -100, -100, -100, -100, -100, -100,\n",
       "         -100, -100, -100, -100, -100, -100, -100, -100])}"
      ]
     },
     "execution_count": 27,
     "metadata": {},
     "output_type": "execute_result"
    }
   ],
   "source": [
    "train_dataset[0]"
   ]
  },
  {
   "cell_type": "code",
   "execution_count": 28,
   "metadata": {},
   "outputs": [
    {
     "name": "stderr",
     "output_type": "stream",
     "text": [
      "Some weights of BertForTokenClassification were not initialized from the model checkpoint at bert-base-cased and are newly initialized: ['classifier.bias', 'classifier.weight']\n",
      "You should probably TRAIN this model on a down-stream task to be able to use it for predictions and inference.\n",
      "c:\\Users\\Manika Sinha\\Sapient_Case_Study\\Case Study NER\\Case Study NER\\.venv\\Lib\\site-packages\\transformers\\training_args.py:1575: FutureWarning: `evaluation_strategy` is deprecated and will be removed in version 4.46 of 🤗 Transformers. Use `eval_strategy` instead\n",
      "  warnings.warn(\n"
     ]
    }
   ],
   "source": [
    "# Load the model\n",
    "model = BertForTokenClassification.from_pretrained('bert-base-cased', num_labels=len(tag2id))\n",
    "\n",
    "# Training arguments\n",
    "training_args = TrainingArguments(\n",
    "    output_dir='./results',\n",
    "    evaluation_strategy='epoch',\n",
    "    learning_rate=2e-5,\n",
    "    per_device_train_batch_size=16,\n",
    "    per_device_eval_batch_size=16,\n",
    "    num_train_epochs=3,\n",
    "    weight_decay=0.01,\n",
    "    logging_dir='./logs',\n",
    "    logging_steps=10,\n",
    "    save_steps=10,\n",
    "    save_total_limit=2\n",
    ")\n",
    "\n"
   ]
  },
  {
   "cell_type": "code",
   "execution_count": 29,
   "metadata": {},
   "outputs": [],
   "source": [
    "def compute_metrics(p):\n",
    "    predictions, labels = p\n",
    "    predictions = np.argmax(predictions, axis=-1)\n",
    "\n",
    "    # Flatten the arrays\n",
    "    true_labels = labels.flatten()\n",
    "    true_predictions = predictions.flatten()\n",
    "\n",
    "    # Remove ignored index (usually padding tokens)\n",
    "    mask = true_labels != -100\n",
    "    true_labels = true_labels[mask]\n",
    "    true_predictions = true_predictions[mask]\n",
    "\n",
    "    # Calculate precision, recall, and F1 score\n",
    "    precision, recall, f1, _ = precision_recall_fscore_support(true_labels, true_predictions, average=\"weighted\", zero_division=0)\n",
    "    accuracy = accuracy_score(true_labels, true_predictions)\n",
    "    return {\n",
    "        \"accuracy\": accuracy,\n",
    "        \"precision\": precision,\n",
    "        \"recall\": recall,\n",
    "        \"f1\": f1\n",
    "    }"
   ]
  },
  {
   "cell_type": "code",
   "execution_count": 30,
   "metadata": {},
   "outputs": [
    {
     "name": "stderr",
     "output_type": "stream",
     "text": [
      "C:\\Users\\Manika Sinha\\AppData\\Local\\Temp\\ipykernel_28700\\2054015023.py:2: FutureWarning: `tokenizer` is deprecated and will be removed in version 5.0.0 for `Trainer.__init__`. Use `processing_class` instead.\n",
      "  trainer = Trainer(\n"
     ]
    }
   ],
   "source": [
    "# Initialize the Trainer\n",
    "trainer = Trainer(\n",
    "    model=model,\n",
    "    args=training_args,\n",
    "    train_dataset=train_dataset,\n",
    "    eval_dataset=val_dataset,\n",
    "    tokenizer=tokenizer,\n",
    "    compute_metrics=compute_metrics\n",
    ")\n",
    "\n"
   ]
  },
  {
   "cell_type": "code",
   "execution_count": null,
   "metadata": {},
   "outputs": [
    {
     "data": {
      "text/html": [
       "\n",
       "    <div>\n",
       "      \n",
       "      <progress value='3' max='1314' style='width:300px; height:20px; vertical-align: middle;'></progress>\n",
       "      [   3/1314 00:04 < 1:44:16, 0.21 it/s, Epoch 0.00/3]\n",
       "    </div>\n",
       "    <table border=\"1\" class=\"dataframe\">\n",
       "  <thead>\n",
       " <tr style=\"text-align: left;\">\n",
       "      <th>Epoch</th>\n",
       "      <th>Training Loss</th>\n",
       "      <th>Validation Loss</th>\n",
       "    </tr>\n",
       "  </thead>\n",
       "  <tbody>\n",
       "  </tbody>\n",
       "</table><p>"
      ],
      "text/plain": [
       "<IPython.core.display.HTML object>"
      ]
     },
     "metadata": {},
     "output_type": "display_data"
    }
   ],
   "source": [
    "# Train the model\n",
    "trainer.train()"
   ]
  },
  {
   "cell_type": "code",
   "execution_count": null,
   "metadata": {},
   "outputs": [],
   "source": [
    "# Evaluate the model on the validation dataset\n",
    "eval_results = trainer.evaluate(eval_dataset=val_dataset)\n",
    "\n",
    "# Print the evaluation results\n",
    "print(\"Evaluation results:\", eval_results)"
   ]
  },
  {
   "cell_type": "code",
   "execution_count": null,
   "metadata": {},
   "outputs": [],
   "source": [
    "# Get predictions for the validation dataset\n",
    "predictions, labels, _ = trainer.predict(val_dataset)\n",
    "\n",
    "# Convert predictions to tag names\n",
    "predicted_tags = np.argmax(predictions, axis=2)\n",
    "\n",
    "# Remove padding tokens using the attention mask\n",
    "attention_masks = [val_dataset[i]['attention_mask'].numpy() for i in range(len(val_dataset))]\n",
    "predicted_tags = [[id2tag[pred] for pred, mask in zip(preds, mask) if mask] for preds, mask in zip(predicted_tags, attention_masks)]\n",
    "true_tags = [[id2tag[label] if label != -100 else 'O' for label, mask in zip(label_seq, mask) if mask] for label_seq, mask in zip(labels, attention_masks)]\n",
    "\n",
    "# Create a DataFrame with actual tags and predicted tags\n",
    "eval_df = pd.DataFrame({\n",
    "    'Sentence': [tokenizer.decode(val_dataset[i]['input_ids'], skip_special_tokens=True) for i in range(len(val_dataset))],\n",
    "    'Actual Tags': [' '.join(tags) for tags in true_tags],\n",
    "    'Predicted Tags': [' '.join(tags) for tags in predicted_tags]\n",
    "})\n",
    "\n",
    "# Print the DataFrame\n",
    "print(eval_df)"
   ]
  },
  {
   "cell_type": "code",
   "execution_count": 78,
   "metadata": {},
   "outputs": [],
   "source": [
    "eval_df.to_csv(\"eval_df.csv\", index=False)"
   ]
  },
  {
   "cell_type": "code",
   "execution_count": null,
   "metadata": {},
   "outputs": [],
   "source": [
    "# Convert the 'Tags' column to a list of lists\n",
    "actual_tags_list = eval_df['Actual Tags'].apply(lambda x: x.split()).tolist()\n",
    "\n",
    "# Print the result\n",
    "print(actual_tags_list)\n",
    "\n",
    "# Convert the 'Tags' column to a list of lists\n",
    "pred_tags_list = eval_df['Predicted Tags'].apply(lambda x: x.split()).tolist()\n",
    "\n",
    "# Print the result\n",
    "print(pred_tags_list)"
   ]
  },
  {
   "cell_type": "code",
   "execution_count": null,
   "metadata": {},
   "outputs": [],
   "source": [
    "# Evaluate the model on the test dataset\n",
    "test_results = trainer.evaluate(eval_dataset=test_dataset)\n",
    "\n",
    "# Print the evaluation results\n",
    "print(\"Test results:\", test_results)\n",
    "\n",
    "# Get predictions for the test dataset\n",
    "predictions, labels, _ = trainer.predict(test_dataset)\n",
    "\n",
    "# Convert predictions to tag names\n",
    "predicted_tags = np.argmax(predictions, axis=2)\n",
    "\n",
    "# Remove padding tokens using the attention mask\n",
    "attention_masks = [test_dataset[i]['attention_mask'].numpy() for i in range(len(test_dataset))]\n",
    "predicted_tags = [[id2tag[pred] for pred, mask in zip(preds, mask) if mask] for preds, mask in zip(predicted_tags, attention_masks)]\n",
    "true_tags = [[id2tag[label] if label != -100 else 'O' for label, mask in zip(label_seq, mask) if mask] for label_seq, mask in zip(labels, attention_masks)]\n",
    "\n",
    "# Create a DataFrame with actual tags and predicted tags\n",
    "test_df = pd.DataFrame({\n",
    "    'Sentence': [tokenizer.decode(test_dataset[i]['input_ids'], skip_special_tokens=True) for i in range(len(test_dataset))],\n",
    "    'Actual Tags': [' '.join(tags) for tags in true_tags],\n",
    "    'Predicted Tags': [' '.join(tags) for tags in predicted_tags]\n",
    "})\n",
    "\n",
    "# Print the DataFrame\n",
    "print(test_df)"
   ]
  },
  {
   "cell_type": "code",
   "execution_count": 76,
   "metadata": {},
   "outputs": [],
   "source": [
    "test_df.to_csv(\"test_df.csv\", index=False)"
   ]
  },
  {
   "cell_type": "code",
   "execution_count": null,
   "metadata": {},
   "outputs": [],
   "source": [
    "# Convert the 'Tags' column to a list of lists\n",
    "actual_tags_list = test_df['Actual Tags'].apply(lambda x: x.split()).tolist()\n",
    "\n",
    "# Print the result\n",
    "print(actual_tags_list)\n",
    "\n",
    "# Convert the 'Tags' column to a list of lists\n",
    "pred_tags_list = test_df['Predicted Tags'].apply(lambda x: x.split()).tolist()\n",
    "\n",
    "# Print the result\n",
    "print(pred_tags_list)"
   ]
  }
 ],
 "metadata": {
  "kernelspec": {
   "display_name": ".venv",
   "language": "python",
   "name": "python3"
  },
  "language_info": {
   "codemirror_mode": {
    "name": "ipython",
    "version": 3
   },
   "file_extension": ".py",
   "mimetype": "text/x-python",
   "name": "python",
   "nbconvert_exporter": "python",
   "pygments_lexer": "ipython3",
   "version": "3.12.6"
  }
 },
 "nbformat": 4,
 "nbformat_minor": 2
}
